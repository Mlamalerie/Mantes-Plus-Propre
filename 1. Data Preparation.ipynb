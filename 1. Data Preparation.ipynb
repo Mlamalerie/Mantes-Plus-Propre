{
 "cells": [
  {
   "cell_type": "code",
   "execution_count": 3,
   "outputs": [],
   "source": [],
   "metadata": {
    "collapsed": false,
    "ExecuteTime": {
     "end_time": "2023-12-16T20:48:09.299268800Z",
     "start_time": "2023-12-16T20:48:09.238239200Z"
    }
   },
   "id": "34cf592d66d43e8"
  },
  {
   "cell_type": "code",
   "execution_count": 4,
   "id": "initial_id",
   "metadata": {
    "collapsed": true,
    "ExecuteTime": {
     "end_time": "2023-12-16T20:48:09.474938Z",
     "start_time": "2023-12-16T20:48:09.288189Z"
    }
   },
   "outputs": [],
   "source": [
    "import os\n",
    "import numpy as np\n",
    "import pandas as pd\n",
    "import matplotlib.pyplot as plt\n",
    "import seaborn as sns\n",
    "import json\n",
    "import shutil\n",
    "from tqdm import tqdm\n"
   ]
  },
  {
   "cell_type": "code",
   "execution_count": 5,
   "outputs": [
    {
     "name": "stdout",
     "output_type": "stream",
     "text": [
      "taco-2gb/\n",
      "    4 img files\n",
      "    data/\n",
      "        2 img files\n",
      "        batch_1/\n",
      "            102 img files\n",
      "        batch_10/\n",
      "            101 img files\n",
      "        batch_11/\n",
      "            101 img files\n",
      "        batch_12/\n",
      "            101 img files\n",
      "        batch_13/\n",
      "            101 img files\n",
      "        batch_14/\n",
      "            101 img files\n",
      "        batch_15/\n",
      "            86 img files\n",
      "        batch_2/\n",
      "            93 img files\n",
      "        batch_3/\n",
      "            98 img files\n",
      "        batch_4/\n",
      "            90 img files\n",
      "        batch_5/\n",
      "            113 img files\n",
      "        batch_6/\n",
      "            98 img files\n",
      "        batch_7/\n",
      "            128 img files\n",
      "        batch_8/\n",
      "            101 img files\n",
      "        batch_9/\n",
      "            101 img files\n"
     ]
    }
   ],
   "source": [
    "TACO_DATASET_ROOT_PATH = r\"N:\\.shortcut-targets-by-id\\1snQvqDK4hGCn0Aj8Z9ue27atrFsCtFln\\Drive KESK'IA\\POC - C Du Propre\\dataset\\taco-2gb\"\n",
    "NEW_TACO_DATASET_PATH = r\"N:\\.shortcut-targets-by-id\\1snQvqDK4hGCn0Aj8Z9ue27atrFsCtFln\\Drive KESK'IA\\POC - C Du Propre\\dataset\\taco-2gb-updated\"\n",
    "\n",
    "# print tree structure\n",
    "for root, dirs, files in os.walk(TACO_DATASET_ROOT_PATH):\n",
    "    level = root.replace(TACO_DATASET_ROOT_PATH, '').count(os.sep)\n",
    "    indent = ' ' * 4 * (level)\n",
    "    print('{}{}/'.format(indent, os.path.basename(root)))\n",
    "    subindent = ' ' * 4 * (level + 1)\n",
    "    # nb of files in each folder\n",
    "    print('{}{} img files'.format(subindent, len(files)))"
   ],
   "metadata": {
    "collapsed": false,
    "ExecuteTime": {
     "end_time": "2023-12-16T20:48:09.793997900Z",
     "start_time": "2023-12-16T20:48:09.397116600Z"
    }
   },
   "id": "cf6a48600b4dcf61"
  },
  {
   "cell_type": "markdown",
   "source": [
    "## TACO dataset"
   ],
   "metadata": {
    "collapsed": false
   },
   "id": "feb59d6bcc997e21"
  },
  {
   "cell_type": "code",
   "execution_count": 6,
   "outputs": [
    {
     "data": {
      "text/plain": "      img_id  img_width  img_height            img_file  cat_id  \\\n0          0       1537        2049  batch_1/000006.jpg       6   \n1          1       1537        2049  batch_1/000008.jpg      18   \n2          1       1537        2049  batch_1/000008.jpg      14   \n3          2       1537        2049  batch_1/000010.jpg       5   \n4          2       1537        2049  batch_1/000010.jpg       7   \n...      ...        ...         ...                 ...     ...   \n4779    1498       1824        4000  batch_9/000098.jpg      16   \n4780    1498       1824        4000  batch_9/000098.jpg       7   \n4781    1499       1824        4000  batch_9/000099.jpg      39   \n4782    1499       1824        4000  batch_9/000099.jpg      14   \n4783    1499       1824        4000  batch_9/000099.jpg       6   \n\n                   cat_name          supercategory  ann_id          x  \\\n0              Glass bottle                 Bottle       1   517.0000   \n1               Meal carton                 Carton       2     1.0000   \n2              Other carton                 Carton       3   531.0000   \n3      Clear plastic bottle                 Bottle       4   632.0000   \n4        Plastic bottle cap             Bottle cap       5   632.0000   \n...                     ...                    ...     ...        ...   \n4779           Drink carton                 Carton    4779   228.7143   \n4780     Plastic bottle cap             Bottle cap    4780  1041.3334   \n4781  Other plastic wrapper  Plastic bag & wrapper    4781   862.0274   \n4782           Other carton                 Carton    4782   966.0000   \n4783           Glass bottle                 Bottle    4783  1125.0000   \n\n              y      width  height          area  \n0      127.0000   447.0000  1322.0  4.039540e+05  \n1      457.0000  1429.0000  1519.0  1.071260e+06  \n2      292.0000  1006.0000   672.0  9.958350e+04  \n3      987.0000   500.0000   374.0  7.383250e+04  \n4      989.0000    44.0000    51.0  9.150000e+02  \n...         ...        ...     ...           ...  \n4779  1550.0476  1007.9999   579.0  5.032469e+05  \n4780  1721.7142   141.0000   138.0  1.449450e+04  \n4781  1331.2500   505.9726   612.5  1.549541e+05  \n4782  1996.0000   211.0000   336.0  2.867500e+04  \n4783  1858.0000   234.0000   510.0  6.858950e+04  \n\n[4784 rows x 13 columns]",
      "text/html": "<div>\n<style scoped>\n    .dataframe tbody tr th:only-of-type {\n        vertical-align: middle;\n    }\n\n    .dataframe tbody tr th {\n        vertical-align: top;\n    }\n\n    .dataframe thead th {\n        text-align: right;\n    }\n</style>\n<table border=\"1\" class=\"dataframe\">\n  <thead>\n    <tr style=\"text-align: right;\">\n      <th></th>\n      <th>img_id</th>\n      <th>img_width</th>\n      <th>img_height</th>\n      <th>img_file</th>\n      <th>cat_id</th>\n      <th>cat_name</th>\n      <th>supercategory</th>\n      <th>ann_id</th>\n      <th>x</th>\n      <th>y</th>\n      <th>width</th>\n      <th>height</th>\n      <th>area</th>\n    </tr>\n  </thead>\n  <tbody>\n    <tr>\n      <th>0</th>\n      <td>0</td>\n      <td>1537</td>\n      <td>2049</td>\n      <td>batch_1/000006.jpg</td>\n      <td>6</td>\n      <td>Glass bottle</td>\n      <td>Bottle</td>\n      <td>1</td>\n      <td>517.0000</td>\n      <td>127.0000</td>\n      <td>447.0000</td>\n      <td>1322.0</td>\n      <td>4.039540e+05</td>\n    </tr>\n    <tr>\n      <th>1</th>\n      <td>1</td>\n      <td>1537</td>\n      <td>2049</td>\n      <td>batch_1/000008.jpg</td>\n      <td>18</td>\n      <td>Meal carton</td>\n      <td>Carton</td>\n      <td>2</td>\n      <td>1.0000</td>\n      <td>457.0000</td>\n      <td>1429.0000</td>\n      <td>1519.0</td>\n      <td>1.071260e+06</td>\n    </tr>\n    <tr>\n      <th>2</th>\n      <td>1</td>\n      <td>1537</td>\n      <td>2049</td>\n      <td>batch_1/000008.jpg</td>\n      <td>14</td>\n      <td>Other carton</td>\n      <td>Carton</td>\n      <td>3</td>\n      <td>531.0000</td>\n      <td>292.0000</td>\n      <td>1006.0000</td>\n      <td>672.0</td>\n      <td>9.958350e+04</td>\n    </tr>\n    <tr>\n      <th>3</th>\n      <td>2</td>\n      <td>1537</td>\n      <td>2049</td>\n      <td>batch_1/000010.jpg</td>\n      <td>5</td>\n      <td>Clear plastic bottle</td>\n      <td>Bottle</td>\n      <td>4</td>\n      <td>632.0000</td>\n      <td>987.0000</td>\n      <td>500.0000</td>\n      <td>374.0</td>\n      <td>7.383250e+04</td>\n    </tr>\n    <tr>\n      <th>4</th>\n      <td>2</td>\n      <td>1537</td>\n      <td>2049</td>\n      <td>batch_1/000010.jpg</td>\n      <td>7</td>\n      <td>Plastic bottle cap</td>\n      <td>Bottle cap</td>\n      <td>5</td>\n      <td>632.0000</td>\n      <td>989.0000</td>\n      <td>44.0000</td>\n      <td>51.0</td>\n      <td>9.150000e+02</td>\n    </tr>\n    <tr>\n      <th>...</th>\n      <td>...</td>\n      <td>...</td>\n      <td>...</td>\n      <td>...</td>\n      <td>...</td>\n      <td>...</td>\n      <td>...</td>\n      <td>...</td>\n      <td>...</td>\n      <td>...</td>\n      <td>...</td>\n      <td>...</td>\n      <td>...</td>\n    </tr>\n    <tr>\n      <th>4779</th>\n      <td>1498</td>\n      <td>1824</td>\n      <td>4000</td>\n      <td>batch_9/000098.jpg</td>\n      <td>16</td>\n      <td>Drink carton</td>\n      <td>Carton</td>\n      <td>4779</td>\n      <td>228.7143</td>\n      <td>1550.0476</td>\n      <td>1007.9999</td>\n      <td>579.0</td>\n      <td>5.032469e+05</td>\n    </tr>\n    <tr>\n      <th>4780</th>\n      <td>1498</td>\n      <td>1824</td>\n      <td>4000</td>\n      <td>batch_9/000098.jpg</td>\n      <td>7</td>\n      <td>Plastic bottle cap</td>\n      <td>Bottle cap</td>\n      <td>4780</td>\n      <td>1041.3334</td>\n      <td>1721.7142</td>\n      <td>141.0000</td>\n      <td>138.0</td>\n      <td>1.449450e+04</td>\n    </tr>\n    <tr>\n      <th>4781</th>\n      <td>1499</td>\n      <td>1824</td>\n      <td>4000</td>\n      <td>batch_9/000099.jpg</td>\n      <td>39</td>\n      <td>Other plastic wrapper</td>\n      <td>Plastic bag &amp; wrapper</td>\n      <td>4781</td>\n      <td>862.0274</td>\n      <td>1331.2500</td>\n      <td>505.9726</td>\n      <td>612.5</td>\n      <td>1.549541e+05</td>\n    </tr>\n    <tr>\n      <th>4782</th>\n      <td>1499</td>\n      <td>1824</td>\n      <td>4000</td>\n      <td>batch_9/000099.jpg</td>\n      <td>14</td>\n      <td>Other carton</td>\n      <td>Carton</td>\n      <td>4782</td>\n      <td>966.0000</td>\n      <td>1996.0000</td>\n      <td>211.0000</td>\n      <td>336.0</td>\n      <td>2.867500e+04</td>\n    </tr>\n    <tr>\n      <th>4783</th>\n      <td>1499</td>\n      <td>1824</td>\n      <td>4000</td>\n      <td>batch_9/000099.jpg</td>\n      <td>6</td>\n      <td>Glass bottle</td>\n      <td>Bottle</td>\n      <td>4783</td>\n      <td>1125.0000</td>\n      <td>1858.0000</td>\n      <td>234.0000</td>\n      <td>510.0</td>\n      <td>6.858950e+04</td>\n    </tr>\n  </tbody>\n</table>\n<p>4784 rows × 13 columns</p>\n</div>"
     },
     "execution_count": 6,
     "metadata": {},
     "output_type": "execute_result"
    }
   ],
   "source": [
    "taco_meta_df = pd.read_csv(os.path.join(TACO_DATASET_ROOT_PATH, \"meta_df.csv\"))\n",
    "taco_meta_df"
   ],
   "metadata": {
    "collapsed": false,
    "ExecuteTime": {
     "end_time": "2023-12-16T20:48:10.425009700Z",
     "start_time": "2023-12-16T20:48:09.654795300Z"
    }
   },
   "id": "79d628887fb22267"
  },
  {
   "cell_type": "code",
   "execution_count": 7,
   "outputs": [],
   "source": [
    "taco_meta_df[\"path\"] = taco_meta_df[\"img_file\"].apply(lambda x: os.path.join(TACO_DATASET_ROOT_PATH, \"data\", x))\n",
    "\n",
    "# add new img file path (replace '/' by '_')\n",
    "taco_meta_df[\"img_file\"] = taco_meta_df[\"img_file\"].apply(lambda x: x.replace(\"/\", \"_\"))"
   ],
   "metadata": {
    "collapsed": false,
    "ExecuteTime": {
     "end_time": "2023-12-16T20:48:10.536366400Z",
     "start_time": "2023-12-16T20:48:10.425009700Z"
    }
   },
   "id": "cd0040d6a75298f8"
  },
  {
   "cell_type": "markdown",
   "source": [],
   "metadata": {
    "collapsed": false
   },
   "id": "f4ed485cb1dc00e8"
  },
  {
   "cell_type": "code",
   "execution_count": 8,
   "outputs": [
    {
     "data": {
      "text/plain": "Index(['img_id', 'img_width', 'img_height', 'img_file', 'cat_id', 'cat_name',\n       'supercategory', 'ann_id', 'x', 'y', 'width', 'height', 'area', 'path'],\n      dtype='object')"
     },
     "execution_count": 8,
     "metadata": {},
     "output_type": "execute_result"
    }
   ],
   "source": [
    "taco_meta_df.columns"
   ],
   "metadata": {
    "collapsed": false,
    "ExecuteTime": {
     "end_time": "2023-12-16T20:48:10.711002300Z",
     "start_time": "2023-12-16T20:48:10.481028Z"
    }
   },
   "id": "c242ab3ca1bcd37a"
  },
  {
   "cell_type": "markdown",
   "source": [
    "## Convert to yolo format"
   ],
   "metadata": {
    "collapsed": false
   },
   "id": "f1cde95073b07e26"
  },
  {
   "cell_type": "code",
   "execution_count": 9,
   "outputs": [],
   "source": [
    "# Calcul et ajout des nouvelles colonnes normalisées\n",
    "taco_meta_df['x_center_norm'] = (taco_meta_df['x'] + taco_meta_df['width'] / 2) / taco_meta_df['img_width']\n",
    "taco_meta_df['y_center_norm'] = (taco_meta_df['y'] + taco_meta_df['height'] / 2) / taco_meta_df['img_height']\n",
    "taco_meta_df['width_norm'] = taco_meta_df['width'] / taco_meta_df['img_width']\n",
    "taco_meta_df['height_norm'] = taco_meta_df['height'] / taco_meta_df['img_height']"
   ],
   "metadata": {
    "collapsed": false,
    "ExecuteTime": {
     "end_time": "2023-12-16T20:48:10.881061800Z",
     "start_time": "2023-12-16T20:48:10.513825Z"
    }
   },
   "id": "58808aff82657713"
  },
  {
   "cell_type": "markdown",
   "source": [
    "## Split train/validation/test"
   ],
   "metadata": {
    "collapsed": false
   },
   "id": "9a387650bb66303b"
  },
  {
   "cell_type": "code",
   "execution_count": 10,
   "outputs": [
    {
     "name": "stdout",
     "output_type": "stream",
     "text": [
      "train_df: 3587 (75.0%)\n",
      "val_df: 718 (15.0%)\n",
      "test_df: 479 (10.0%)\n"
     ]
    }
   ],
   "source": [
    "from sklearn.model_selection import train_test_split\n",
    "\n",
    "\n",
    "def split_dataset(df, val_size=0.1, test_size=0.2, random_state=123, stratify_by=None):\n",
    "    \"\"\"Split dataset into train, validation, and test sets.\n",
    "\n",
    "    Args:\n",
    "        df: Dataframe to split.\n",
    "        val_size: Size of the validation set.\n",
    "        test_size: Size of the test set.\n",
    "        random_state: Random state for reproducibility.\n",
    "        stratify_by: Stratify by column name.\n",
    "\n",
    "    Returns:\n",
    "        Tuple of train, validation, and test sets.\n",
    "    \"\"\"\n",
    "    # Ensure stratify_by is a valid column\n",
    "    if stratify_by not in df.columns:\n",
    "        stratify_by = None\n",
    "\n",
    "    # Adjust val_size to reflect the proportion of the remaining dataset after test split\n",
    "    val_size_adjusted = val_size / (1 - test_size)\n",
    "\n",
    "    # Splitting the dataset into training + validation and test sets\n",
    "    train_val_df, test_df = train_test_split(\n",
    "        df,\n",
    "        test_size=test_size,\n",
    "        random_state=random_state,\n",
    "        stratify=df[stratify_by] if stratify_by else None\n",
    "    )\n",
    "\n",
    "    # Splitting the training + validation set into training and validation sets\n",
    "    train_df, val_df = train_test_split(\n",
    "        train_val_df,\n",
    "        test_size=val_size_adjusted,\n",
    "        random_state=random_state,\n",
    "        stratify=train_val_df[stratify_by] if stratify_by else None\n",
    "    )\n",
    "\n",
    "    return train_df, val_df, test_df\n",
    "\n",
    "\n",
    "# Example usage\n",
    "train_df, val_df, test_df = split_dataset(taco_meta_df, stratify_by=\"supercategory\", val_size=0.15, test_size=0.1)\n",
    "print(f\"train_df: {len(train_df)} ({len(train_df) / len(taco_meta_df) * 100:.1f}%)\")\n",
    "print(f\"val_df: {len(val_df)} ({len(val_df) / len(taco_meta_df) * 100:.1f}%)\")\n",
    "print(f\"test_df: {len(test_df)} ({len(test_df) / len(taco_meta_df) * 100:.1f}%)\")"
   ],
   "metadata": {
    "collapsed": false,
    "ExecuteTime": {
     "end_time": "2023-12-16T20:48:11.199939Z",
     "start_time": "2023-12-16T20:48:10.548478400Z"
    }
   },
   "id": "2c090e45383e7e5b"
  },
  {
   "cell_type": "code",
   "execution_count": 11,
   "outputs": [
    {
     "data": {
      "text/plain": "      img_id  img_width  img_height             img_file  cat_id  \\\n0        457       3120        4160  batch_13_000056.jpg      27   \n1       1365       2448        3264   batch_8_000065.jpg       9   \n2        766       3264        2448   batch_2_000089.JPG      36   \n3       1112       3264        2448   batch_6_000066.JPG      59   \n4        275       4032        3024  batch_11_000074.jpg      36   \n...      ...        ...         ...                  ...     ...   \n4779    1226       3264        2448   batch_7_000064.JPG      36   \n4780    1081       3264        2448   batch_6_000100.JPG       5   \n4781    1425       2448        3264   batch_9_000025.jpg      39   \n4782     719       2448        3264   batch_2_000039.JPG      58   \n4783     325       2988        5312  batch_12_000024.jpg      59   \n\n                   cat_name          supercategory  ann_id       x       y  \\\n0               Plastic lid                    Lid    1620  1521.0   883.0   \n1              Broken glass           Broken glass    4381  1050.0  2530.0   \n2              Plastic film  Plastic bag & wrapper    2378  1641.0   859.0   \n3                 Cigarette              Cigarette    3590  1074.0   658.0   \n4              Plastic film  Plastic bag & wrapper     847  3007.0    51.0   \n...                     ...                    ...     ...     ...     ...   \n4779           Plastic film  Plastic bag & wrapper    3809   793.0  2266.0   \n4780   Clear plastic bottle                 Bottle    3244   994.0   579.0   \n4781  Other plastic wrapper  Plastic bag & wrapper    4538   716.0  1443.0   \n4782       Unlabeled litter       Unlabeled litter    2279  1238.0   730.0   \n4783              Cigarette              Cigarette     991  1760.0  1456.0   \n\n      width  height     area                              path  x_center_norm  \\\n0     544.0   188.0  73468.0  train\\images\\batch_13_000056.jpg       0.574679   \n1      71.0    55.0   2074.5   train\\images\\batch_8_000065.jpg       0.443423   \n2     610.0   180.0  66199.0   train\\images\\batch_2_000089.JPG       0.596201   \n3      12.0    16.0    140.0   train\\images\\batch_6_000066.JPG       0.330882   \n4     122.0   158.0   7292.0  train\\images\\batch_11_000074.jpg       0.760913   \n...     ...     ...      ...                               ...            ...   \n4779  108.0    72.0   4724.0    test\\images\\batch_7_000064.JPG       0.259498   \n4780  608.0   315.0  98612.5    test\\images\\batch_6_000100.JPG       0.397672   \n4781  400.0   321.0  41103.0    test\\images\\batch_9_000025.jpg       0.374183   \n4782   79.0    78.0   3808.0    test\\images\\batch_2_000039.JPG       0.521855   \n4783   32.0    40.0    727.0   test\\images\\batch_12_000024.jpg       0.594378   \n\n      y_center_norm  width_norm  height_norm  split  \n0          0.234856    0.174359     0.045192  train  \n1          0.783548    0.029003     0.016850  train  \n2          0.387663    0.186887     0.073529  train  \n3          0.272059    0.003676     0.006536  train  \n4          0.042989    0.030258     0.052249  train  \n...             ...         ...          ...    ...  \n4779       0.940359    0.033088     0.029412   test  \n4780       0.300858    0.186275     0.128676   test  \n4781       0.491268    0.163399     0.098346   test  \n4782       0.235600    0.032271     0.023897   test  \n4783       0.277861    0.010710     0.007530   test  \n\n[4784 rows x 19 columns]",
      "text/html": "<div>\n<style scoped>\n    .dataframe tbody tr th:only-of-type {\n        vertical-align: middle;\n    }\n\n    .dataframe tbody tr th {\n        vertical-align: top;\n    }\n\n    .dataframe thead th {\n        text-align: right;\n    }\n</style>\n<table border=\"1\" class=\"dataframe\">\n  <thead>\n    <tr style=\"text-align: right;\">\n      <th></th>\n      <th>img_id</th>\n      <th>img_width</th>\n      <th>img_height</th>\n      <th>img_file</th>\n      <th>cat_id</th>\n      <th>cat_name</th>\n      <th>supercategory</th>\n      <th>ann_id</th>\n      <th>x</th>\n      <th>y</th>\n      <th>width</th>\n      <th>height</th>\n      <th>area</th>\n      <th>path</th>\n      <th>x_center_norm</th>\n      <th>y_center_norm</th>\n      <th>width_norm</th>\n      <th>height_norm</th>\n      <th>split</th>\n    </tr>\n  </thead>\n  <tbody>\n    <tr>\n      <th>0</th>\n      <td>457</td>\n      <td>3120</td>\n      <td>4160</td>\n      <td>batch_13_000056.jpg</td>\n      <td>27</td>\n      <td>Plastic lid</td>\n      <td>Lid</td>\n      <td>1620</td>\n      <td>1521.0</td>\n      <td>883.0</td>\n      <td>544.0</td>\n      <td>188.0</td>\n      <td>73468.0</td>\n      <td>train\\images\\batch_13_000056.jpg</td>\n      <td>0.574679</td>\n      <td>0.234856</td>\n      <td>0.174359</td>\n      <td>0.045192</td>\n      <td>train</td>\n    </tr>\n    <tr>\n      <th>1</th>\n      <td>1365</td>\n      <td>2448</td>\n      <td>3264</td>\n      <td>batch_8_000065.jpg</td>\n      <td>9</td>\n      <td>Broken glass</td>\n      <td>Broken glass</td>\n      <td>4381</td>\n      <td>1050.0</td>\n      <td>2530.0</td>\n      <td>71.0</td>\n      <td>55.0</td>\n      <td>2074.5</td>\n      <td>train\\images\\batch_8_000065.jpg</td>\n      <td>0.443423</td>\n      <td>0.783548</td>\n      <td>0.029003</td>\n      <td>0.016850</td>\n      <td>train</td>\n    </tr>\n    <tr>\n      <th>2</th>\n      <td>766</td>\n      <td>3264</td>\n      <td>2448</td>\n      <td>batch_2_000089.JPG</td>\n      <td>36</td>\n      <td>Plastic film</td>\n      <td>Plastic bag &amp; wrapper</td>\n      <td>2378</td>\n      <td>1641.0</td>\n      <td>859.0</td>\n      <td>610.0</td>\n      <td>180.0</td>\n      <td>66199.0</td>\n      <td>train\\images\\batch_2_000089.JPG</td>\n      <td>0.596201</td>\n      <td>0.387663</td>\n      <td>0.186887</td>\n      <td>0.073529</td>\n      <td>train</td>\n    </tr>\n    <tr>\n      <th>3</th>\n      <td>1112</td>\n      <td>3264</td>\n      <td>2448</td>\n      <td>batch_6_000066.JPG</td>\n      <td>59</td>\n      <td>Cigarette</td>\n      <td>Cigarette</td>\n      <td>3590</td>\n      <td>1074.0</td>\n      <td>658.0</td>\n      <td>12.0</td>\n      <td>16.0</td>\n      <td>140.0</td>\n      <td>train\\images\\batch_6_000066.JPG</td>\n      <td>0.330882</td>\n      <td>0.272059</td>\n      <td>0.003676</td>\n      <td>0.006536</td>\n      <td>train</td>\n    </tr>\n    <tr>\n      <th>4</th>\n      <td>275</td>\n      <td>4032</td>\n      <td>3024</td>\n      <td>batch_11_000074.jpg</td>\n      <td>36</td>\n      <td>Plastic film</td>\n      <td>Plastic bag &amp; wrapper</td>\n      <td>847</td>\n      <td>3007.0</td>\n      <td>51.0</td>\n      <td>122.0</td>\n      <td>158.0</td>\n      <td>7292.0</td>\n      <td>train\\images\\batch_11_000074.jpg</td>\n      <td>0.760913</td>\n      <td>0.042989</td>\n      <td>0.030258</td>\n      <td>0.052249</td>\n      <td>train</td>\n    </tr>\n    <tr>\n      <th>...</th>\n      <td>...</td>\n      <td>...</td>\n      <td>...</td>\n      <td>...</td>\n      <td>...</td>\n      <td>...</td>\n      <td>...</td>\n      <td>...</td>\n      <td>...</td>\n      <td>...</td>\n      <td>...</td>\n      <td>...</td>\n      <td>...</td>\n      <td>...</td>\n      <td>...</td>\n      <td>...</td>\n      <td>...</td>\n      <td>...</td>\n      <td>...</td>\n    </tr>\n    <tr>\n      <th>4779</th>\n      <td>1226</td>\n      <td>3264</td>\n      <td>2448</td>\n      <td>batch_7_000064.JPG</td>\n      <td>36</td>\n      <td>Plastic film</td>\n      <td>Plastic bag &amp; wrapper</td>\n      <td>3809</td>\n      <td>793.0</td>\n      <td>2266.0</td>\n      <td>108.0</td>\n      <td>72.0</td>\n      <td>4724.0</td>\n      <td>test\\images\\batch_7_000064.JPG</td>\n      <td>0.259498</td>\n      <td>0.940359</td>\n      <td>0.033088</td>\n      <td>0.029412</td>\n      <td>test</td>\n    </tr>\n    <tr>\n      <th>4780</th>\n      <td>1081</td>\n      <td>3264</td>\n      <td>2448</td>\n      <td>batch_6_000100.JPG</td>\n      <td>5</td>\n      <td>Clear plastic bottle</td>\n      <td>Bottle</td>\n      <td>3244</td>\n      <td>994.0</td>\n      <td>579.0</td>\n      <td>608.0</td>\n      <td>315.0</td>\n      <td>98612.5</td>\n      <td>test\\images\\batch_6_000100.JPG</td>\n      <td>0.397672</td>\n      <td>0.300858</td>\n      <td>0.186275</td>\n      <td>0.128676</td>\n      <td>test</td>\n    </tr>\n    <tr>\n      <th>4781</th>\n      <td>1425</td>\n      <td>2448</td>\n      <td>3264</td>\n      <td>batch_9_000025.jpg</td>\n      <td>39</td>\n      <td>Other plastic wrapper</td>\n      <td>Plastic bag &amp; wrapper</td>\n      <td>4538</td>\n      <td>716.0</td>\n      <td>1443.0</td>\n      <td>400.0</td>\n      <td>321.0</td>\n      <td>41103.0</td>\n      <td>test\\images\\batch_9_000025.jpg</td>\n      <td>0.374183</td>\n      <td>0.491268</td>\n      <td>0.163399</td>\n      <td>0.098346</td>\n      <td>test</td>\n    </tr>\n    <tr>\n      <th>4782</th>\n      <td>719</td>\n      <td>2448</td>\n      <td>3264</td>\n      <td>batch_2_000039.JPG</td>\n      <td>58</td>\n      <td>Unlabeled litter</td>\n      <td>Unlabeled litter</td>\n      <td>2279</td>\n      <td>1238.0</td>\n      <td>730.0</td>\n      <td>79.0</td>\n      <td>78.0</td>\n      <td>3808.0</td>\n      <td>test\\images\\batch_2_000039.JPG</td>\n      <td>0.521855</td>\n      <td>0.235600</td>\n      <td>0.032271</td>\n      <td>0.023897</td>\n      <td>test</td>\n    </tr>\n    <tr>\n      <th>4783</th>\n      <td>325</td>\n      <td>2988</td>\n      <td>5312</td>\n      <td>batch_12_000024.jpg</td>\n      <td>59</td>\n      <td>Cigarette</td>\n      <td>Cigarette</td>\n      <td>991</td>\n      <td>1760.0</td>\n      <td>1456.0</td>\n      <td>32.0</td>\n      <td>40.0</td>\n      <td>727.0</td>\n      <td>test\\images\\batch_12_000024.jpg</td>\n      <td>0.594378</td>\n      <td>0.277861</td>\n      <td>0.010710</td>\n      <td>0.007530</td>\n      <td>test</td>\n    </tr>\n  </tbody>\n</table>\n<p>4784 rows × 19 columns</p>\n</div>"
     },
     "execution_count": 11,
     "metadata": {},
     "output_type": "execute_result"
    }
   ],
   "source": [
    "train_df[\"split\"] = \"train\"\n",
    "val_df[\"split\"] = \"val\"\n",
    "test_df[\"split\"] = \"test\"\n",
    "\n",
    "train_df[\"path\"] = train_df[\"img_file\"].apply(lambda x: os.path.join(\"train\", \"images\", x))\n",
    "val_df[\"path\"] = val_df[\"img_file\"].apply(lambda x: os.path.join(\"val\", \"images\", x))\n",
    "test_df[\"path\"] = test_df[\"img_file\"].apply(lambda x: os.path.join(\"test\", \"images\", x))\n",
    "\n",
    "new_taco_meta_df = pd.concat([train_df, val_df, test_df], ignore_index=True)\n",
    "new_taco_meta_df"
   ],
   "metadata": {
    "collapsed": false,
    "ExecuteTime": {
     "end_time": "2023-12-16T20:48:14.905159700Z",
     "start_time": "2023-12-16T20:48:14.831969400Z"
    }
   },
   "id": "e769af60870f4ce"
  },
  {
   "cell_type": "code",
   "execution_count": 21,
   "outputs": [
    {
     "data": {
      "text/plain": "Index(['img_id', 'img_width', 'img_height', 'img_file', 'cat_id', 'cat_name',\n       'supercategory', 'ann_id', 'x', 'y', 'width', 'height', 'area', 'path',\n       'x_center_norm', 'y_center_norm', 'width_norm', 'height_norm', 'split'],\n      dtype='object')"
     },
     "execution_count": 21,
     "metadata": {},
     "output_type": "execute_result"
    }
   ],
   "source": [
    "new_taco_meta_df.columns"
   ],
   "metadata": {
    "collapsed": false,
    "ExecuteTime": {
     "end_time": "2023-12-11T10:19:55.044979400Z",
     "start_time": "2023-12-11T10:19:54.995221200Z"
    }
   },
   "id": "602a003a28de8f2b"
  },
  {
   "cell_type": "markdown",
   "source": [
    "## Generate yaml file"
   ],
   "metadata": {
    "collapsed": false
   },
   "id": "a4850746cbdb32d5"
  },
  {
   "cell_type": "code",
   "execution_count": null,
   "outputs": [],
   "source": [
    "def generate_yaml_file(path : dit"
   ],
   "metadata": {
    "collapsed": false
   },
   "id": "58e67ed22781499b"
  },
  {
   "cell_type": "markdown",
   "source": [
    "## Rearrange directory structure (train/val/test) \n",
    "yolo format \n",
    "\n",
    "**Objectif** : \n",
    "- train\n",
    "    - images\n",
    "    - labels\n",
    "- val\n",
    "- test"
   ],
   "metadata": {
    "collapsed": false
   },
   "id": "913d09450f70966a"
  },
  {
   "cell_type": "code",
   "execution_count": 8,
   "outputs": [
    {
     "data": {
      "text/plain": "      img_id  img_width  img_height             img_file  cat_id  \\\n3819    1224       2448        3264   batch_7_000062.JPG      58   \n3418    1112       3264        2448   batch_6_000066.JPG      59   \n489      137       1824        4000  batch_10_000036.jpg      59   \n3007    1005       3264        2448   batch_5_000106.JPG      36   \n4401    1369       3264        2448   batch_8_000069.jpg      39   \n...      ...        ...         ...                  ...     ...   \n3609    1161       2448        3264   batch_6_000014.JPG      59   \n1136     346       2976        3968  batch_12_000045.jpg       5   \n3081    1032       2448        3264   batch_5_000015.JPG      12   \n2326     727       2448        3264   batch_2_000048.JPG      59   \n150       57       2448        3264   batch_1_000076.JPG      59   \n\n                   cat_name          supercategory  ann_id       x       y  \\\n3819       Unlabeled litter       Unlabeled litter    3803  1086.0   760.0   \n3418              Cigarette              Cigarette    3597  1250.0   800.0   \n489               Cigarette              Cigarette     489  1324.0  2390.0   \n3007           Plastic film  Plastic bag & wrapper    2999  1364.0   682.0   \n4401  Other plastic wrapper  Plastic bag & wrapper    4401  2550.0  1593.0   \n...                     ...                    ...     ...     ...     ...   \n3609              Cigarette              Cigarette    3631  1680.0  2208.0   \n1136   Clear plastic bottle                 Bottle    1136  1377.0  1499.0   \n3081              Drink can                    Can    3070  1125.0  1571.0   \n2326              Cigarette              Cigarette    2423   910.0   316.0   \n150               Cigarette              Cigarette     292  1180.0   876.0   \n\n       width  height     area  \\\n3819    70.0    84.0   2829.0   \n3418    16.0    12.0     84.0   \n489     14.0    29.0    140.0   \n3007  1139.0   102.0  72266.5   \n4401    81.0    39.0   1714.0   \n...      ...     ...      ...   \n3609    42.0    52.0    754.0   \n1136    94.0   132.0   7233.0   \n3081   210.0   105.0   7589.0   \n2326    44.0    10.0    374.0   \n150     74.0    70.0   1394.0   \n\n                                                   path  x_center_norm  \\\n3819  N:\\.shortcut-targets-by-id\\1snQvqDK4hGCn0Aj8Z9...       0.457925   \n3418  N:\\.shortcut-targets-by-id\\1snQvqDK4hGCn0Aj8Z9...       0.385417   \n489   N:\\.shortcut-targets-by-id\\1snQvqDK4hGCn0Aj8Z9...       0.729715   \n3007  N:\\.shortcut-targets-by-id\\1snQvqDK4hGCn0Aj8Z9...       0.592371   \n4401  N:\\.shortcut-targets-by-id\\1snQvqDK4hGCn0Aj8Z9...       0.793658   \n...                                                 ...            ...   \n3609  N:\\.shortcut-targets-by-id\\1snQvqDK4hGCn0Aj8Z9...       0.694853   \n1136  N:\\.shortcut-targets-by-id\\1snQvqDK4hGCn0Aj8Z9...       0.478495   \n3081  N:\\.shortcut-targets-by-id\\1snQvqDK4hGCn0Aj8Z9...       0.502451   \n2326  N:\\.shortcut-targets-by-id\\1snQvqDK4hGCn0Aj8Z9...       0.380719   \n150   N:\\.shortcut-targets-by-id\\1snQvqDK4hGCn0Aj8Z9...       0.497141   \n\n      y_center_norm  width_norm  height_norm  \n3819       0.245711    0.028595     0.025735  \n3418       0.329248    0.004902     0.004902  \n489        0.601125    0.007675     0.007250  \n3007       0.299428    0.348958     0.041667  \n4401       0.658701    0.024816     0.015931  \n...             ...         ...          ...  \n3609       0.684436    0.017157     0.015931  \n1136       0.394405    0.031586     0.033266  \n3081       0.497396    0.085784     0.032169  \n2326       0.098346    0.017974     0.003064  \n150        0.279105    0.030229     0.021446  \n\n[3587 rows x 18 columns]",
      "text/html": "<div>\n<style scoped>\n    .dataframe tbody tr th:only-of-type {\n        vertical-align: middle;\n    }\n\n    .dataframe tbody tr th {\n        vertical-align: top;\n    }\n\n    .dataframe thead th {\n        text-align: right;\n    }\n</style>\n<table border=\"1\" class=\"dataframe\">\n  <thead>\n    <tr style=\"text-align: right;\">\n      <th></th>\n      <th>img_id</th>\n      <th>img_width</th>\n      <th>img_height</th>\n      <th>img_file</th>\n      <th>cat_id</th>\n      <th>cat_name</th>\n      <th>supercategory</th>\n      <th>ann_id</th>\n      <th>x</th>\n      <th>y</th>\n      <th>width</th>\n      <th>height</th>\n      <th>area</th>\n      <th>path</th>\n      <th>x_center_norm</th>\n      <th>y_center_norm</th>\n      <th>width_norm</th>\n      <th>height_norm</th>\n    </tr>\n  </thead>\n  <tbody>\n    <tr>\n      <th>3819</th>\n      <td>1224</td>\n      <td>2448</td>\n      <td>3264</td>\n      <td>batch_7_000062.JPG</td>\n      <td>58</td>\n      <td>Unlabeled litter</td>\n      <td>Unlabeled litter</td>\n      <td>3803</td>\n      <td>1086.0</td>\n      <td>760.0</td>\n      <td>70.0</td>\n      <td>84.0</td>\n      <td>2829.0</td>\n      <td>N:\\.shortcut-targets-by-id\\1snQvqDK4hGCn0Aj8Z9...</td>\n      <td>0.457925</td>\n      <td>0.245711</td>\n      <td>0.028595</td>\n      <td>0.025735</td>\n    </tr>\n    <tr>\n      <th>3418</th>\n      <td>1112</td>\n      <td>3264</td>\n      <td>2448</td>\n      <td>batch_6_000066.JPG</td>\n      <td>59</td>\n      <td>Cigarette</td>\n      <td>Cigarette</td>\n      <td>3597</td>\n      <td>1250.0</td>\n      <td>800.0</td>\n      <td>16.0</td>\n      <td>12.0</td>\n      <td>84.0</td>\n      <td>N:\\.shortcut-targets-by-id\\1snQvqDK4hGCn0Aj8Z9...</td>\n      <td>0.385417</td>\n      <td>0.329248</td>\n      <td>0.004902</td>\n      <td>0.004902</td>\n    </tr>\n    <tr>\n      <th>489</th>\n      <td>137</td>\n      <td>1824</td>\n      <td>4000</td>\n      <td>batch_10_000036.jpg</td>\n      <td>59</td>\n      <td>Cigarette</td>\n      <td>Cigarette</td>\n      <td>489</td>\n      <td>1324.0</td>\n      <td>2390.0</td>\n      <td>14.0</td>\n      <td>29.0</td>\n      <td>140.0</td>\n      <td>N:\\.shortcut-targets-by-id\\1snQvqDK4hGCn0Aj8Z9...</td>\n      <td>0.729715</td>\n      <td>0.601125</td>\n      <td>0.007675</td>\n      <td>0.007250</td>\n    </tr>\n    <tr>\n      <th>3007</th>\n      <td>1005</td>\n      <td>3264</td>\n      <td>2448</td>\n      <td>batch_5_000106.JPG</td>\n      <td>36</td>\n      <td>Plastic film</td>\n      <td>Plastic bag &amp; wrapper</td>\n      <td>2999</td>\n      <td>1364.0</td>\n      <td>682.0</td>\n      <td>1139.0</td>\n      <td>102.0</td>\n      <td>72266.5</td>\n      <td>N:\\.shortcut-targets-by-id\\1snQvqDK4hGCn0Aj8Z9...</td>\n      <td>0.592371</td>\n      <td>0.299428</td>\n      <td>0.348958</td>\n      <td>0.041667</td>\n    </tr>\n    <tr>\n      <th>4401</th>\n      <td>1369</td>\n      <td>3264</td>\n      <td>2448</td>\n      <td>batch_8_000069.jpg</td>\n      <td>39</td>\n      <td>Other plastic wrapper</td>\n      <td>Plastic bag &amp; wrapper</td>\n      <td>4401</td>\n      <td>2550.0</td>\n      <td>1593.0</td>\n      <td>81.0</td>\n      <td>39.0</td>\n      <td>1714.0</td>\n      <td>N:\\.shortcut-targets-by-id\\1snQvqDK4hGCn0Aj8Z9...</td>\n      <td>0.793658</td>\n      <td>0.658701</td>\n      <td>0.024816</td>\n      <td>0.015931</td>\n    </tr>\n    <tr>\n      <th>...</th>\n      <td>...</td>\n      <td>...</td>\n      <td>...</td>\n      <td>...</td>\n      <td>...</td>\n      <td>...</td>\n      <td>...</td>\n      <td>...</td>\n      <td>...</td>\n      <td>...</td>\n      <td>...</td>\n      <td>...</td>\n      <td>...</td>\n      <td>...</td>\n      <td>...</td>\n      <td>...</td>\n      <td>...</td>\n      <td>...</td>\n    </tr>\n    <tr>\n      <th>3609</th>\n      <td>1161</td>\n      <td>2448</td>\n      <td>3264</td>\n      <td>batch_6_000014.JPG</td>\n      <td>59</td>\n      <td>Cigarette</td>\n      <td>Cigarette</td>\n      <td>3631</td>\n      <td>1680.0</td>\n      <td>2208.0</td>\n      <td>42.0</td>\n      <td>52.0</td>\n      <td>754.0</td>\n      <td>N:\\.shortcut-targets-by-id\\1snQvqDK4hGCn0Aj8Z9...</td>\n      <td>0.694853</td>\n      <td>0.684436</td>\n      <td>0.017157</td>\n      <td>0.015931</td>\n    </tr>\n    <tr>\n      <th>1136</th>\n      <td>346</td>\n      <td>2976</td>\n      <td>3968</td>\n      <td>batch_12_000045.jpg</td>\n      <td>5</td>\n      <td>Clear plastic bottle</td>\n      <td>Bottle</td>\n      <td>1136</td>\n      <td>1377.0</td>\n      <td>1499.0</td>\n      <td>94.0</td>\n      <td>132.0</td>\n      <td>7233.0</td>\n      <td>N:\\.shortcut-targets-by-id\\1snQvqDK4hGCn0Aj8Z9...</td>\n      <td>0.478495</td>\n      <td>0.394405</td>\n      <td>0.031586</td>\n      <td>0.033266</td>\n    </tr>\n    <tr>\n      <th>3081</th>\n      <td>1032</td>\n      <td>2448</td>\n      <td>3264</td>\n      <td>batch_5_000015.JPG</td>\n      <td>12</td>\n      <td>Drink can</td>\n      <td>Can</td>\n      <td>3070</td>\n      <td>1125.0</td>\n      <td>1571.0</td>\n      <td>210.0</td>\n      <td>105.0</td>\n      <td>7589.0</td>\n      <td>N:\\.shortcut-targets-by-id\\1snQvqDK4hGCn0Aj8Z9...</td>\n      <td>0.502451</td>\n      <td>0.497396</td>\n      <td>0.085784</td>\n      <td>0.032169</td>\n    </tr>\n    <tr>\n      <th>2326</th>\n      <td>727</td>\n      <td>2448</td>\n      <td>3264</td>\n      <td>batch_2_000048.JPG</td>\n      <td>59</td>\n      <td>Cigarette</td>\n      <td>Cigarette</td>\n      <td>2423</td>\n      <td>910.0</td>\n      <td>316.0</td>\n      <td>44.0</td>\n      <td>10.0</td>\n      <td>374.0</td>\n      <td>N:\\.shortcut-targets-by-id\\1snQvqDK4hGCn0Aj8Z9...</td>\n      <td>0.380719</td>\n      <td>0.098346</td>\n      <td>0.017974</td>\n      <td>0.003064</td>\n    </tr>\n    <tr>\n      <th>150</th>\n      <td>57</td>\n      <td>2448</td>\n      <td>3264</td>\n      <td>batch_1_000076.JPG</td>\n      <td>59</td>\n      <td>Cigarette</td>\n      <td>Cigarette</td>\n      <td>292</td>\n      <td>1180.0</td>\n      <td>876.0</td>\n      <td>74.0</td>\n      <td>70.0</td>\n      <td>1394.0</td>\n      <td>N:\\.shortcut-targets-by-id\\1snQvqDK4hGCn0Aj8Z9...</td>\n      <td>0.497141</td>\n      <td>0.279105</td>\n      <td>0.030229</td>\n      <td>0.021446</td>\n    </tr>\n  </tbody>\n</table>\n<p>3587 rows × 18 columns</p>\n</div>"
     },
     "execution_count": 8,
     "metadata": {},
     "output_type": "execute_result"
    }
   ],
   "source": [
    "train_df"
   ],
   "metadata": {
    "collapsed": false,
    "ExecuteTime": {
     "end_time": "2023-12-11T09:51:02.608209300Z",
     "start_time": "2023-12-11T09:51:02.456527700Z"
    }
   },
   "id": "9c16a1860510b4f8"
  },
  {
   "cell_type": "code",
   "execution_count": null,
   "outputs": [
    {
     "name": "stderr",
     "output_type": "stream",
     "text": [
      "Processing train:  93%|█████████▎| 1220/1310 [10:38<00:56,  1.60it/s]  "
     ]
    }
   ],
   "source": [
    "for i, df in enumerate([train_df, val_df, test_df]):\n",
    "    df_name = [\"train\", \"val\", \"test\"][i]\n",
    "    for object_group in tqdm(train_df.groupby(\"path\"), desc=\"Processing {}\".format(df_name)):\n",
    "        # copy image \n",
    "        orig_image_path = object_group[0]\n",
    "        label_matrix = object_group[1][[\"cat_id\", \"x_center_norm\", \"y_center_norm\", \"width_norm\", \"height_norm\"]].values\n",
    "        image_name = object_group[1][\"img_file\"].values[0]\n",
    "\n",
    "        # copy image\n",
    "        new_image_path = os.path.join(NEW_TACO_DATASET_PATH, \"train\", \"images\", image_name)\n",
    "        if not os.path.exists(os.path.dirname(new_image_path)):\n",
    "            os.makedirs(os.path.dirname(new_image_path))\n",
    "        shutil.copy(orig_image_path, new_image_path)\n",
    "\n",
    "        # create label file (yolo format) .txt \n",
    "        new_label_path = os.path.join(NEW_TACO_DATASET_PATH, \"train\", \"labels\",\n",
    "                                      os.path.splitext(image_name)[0] + \".txt\")\n",
    "        if not os.path.exists(os.path.dirname(new_label_path)):\n",
    "            os.makedirs(os.path.dirname(new_label_path))\n",
    "        with open(new_label_path, \"w\") as f:\n",
    "            for label in label_matrix:\n",
    "                f.write(\"{} {} {} {} {}\\n\".format(int(label[0]), float(label[1]), float(label[2]), float(label[3]),\n",
    "                                                  float(label[4])))\n"
   ],
   "metadata": {
    "collapsed": false,
    "is_executing": true,
    "ExecuteTime": {
     "start_time": "2023-12-10T21:25:19.246477900Z"
    }
   },
   "id": "fbd1ad91b8392aa7"
  },
  {
   "cell_type": "markdown",
   "source": [
    "## Create new meta df \n",
    "\n",
    "analyse the new dataset"
   ],
   "metadata": {
    "collapsed": false
   },
   "id": "c32ecf547333efe8"
  },
  {
   "cell_type": "code",
   "execution_count": 19,
   "outputs": [
    {
     "data": {
      "text/plain": "\"N:\\\\.shortcut-targets-by-id\\\\1snQvqDK4hGCn0Aj8Z9ue27atrFsCtFln\\\\Drive KESK'IA\\\\POC - C Du Propre\\\\dataset\\\\taco-2gb-updated\""
     },
     "execution_count": 19,
     "metadata": {},
     "output_type": "execute_result"
    }
   ],
   "source": [
    "NEW_TACO_DATASET_PATH"
   ],
   "metadata": {
    "collapsed": false,
    "ExecuteTime": {
     "end_time": "2023-12-11T10:15:06.116146600Z",
     "start_time": "2023-12-11T10:15:06.089706700Z"
    }
   },
   "id": "6a59307a97456503"
  },
  {
   "cell_type": "code",
   "execution_count": null,
   "outputs": [],
   "source": [
    "import os\n",
    "import pandas as pd\n",
    "from PIL import Image\n",
    "\n",
    "def analyze_yolo_dataset(base_path):\n",
    "    columns = ['img_width', 'img_height', 'img_file', 'path', 'cat_id', 'cat_name', 'ann_id', \n",
    "               'x', 'y', 'width', 'height', 'area', 'x_center_norm', 'y_center_norm', \n",
    "               'width_norm', 'height_norm', 'split']\n",
    "    data = []\n",
    "\n",
    "    for split in ['train', 'val', 'test']:\n",
    "        images_path = os.path.join(base_path, split, 'images')\n",
    "        labels_path = os.path.join(base_path, split, 'labels')\n",
    "\n",
    "        for img_file in os.listdir(images_path):\n",
    "            if img_file.lower().endswith(('.png', '.jpg', '.jpeg')):\n",
    "                img_path = os.path.join(images_path, img_file)\n",
    "                label_path = os.path.join(labels_path, img_file.rsplit('.', 1)[0] + '.txt')\n",
    "\n",
    "                # Get image dimensions\n",
    "                with Image.open(img_path) as img:\n",
    "                    img_width, img_height = img.size\n",
    "\n",
    "                # Read label file\n",
    "                if os.path.exists(label_path):\n",
    "                    with open(label_path, 'r') as file:\n",
    "                        for line in file:\n",
    "                            cat_id, x, y, width, height = map(float, line.strip().split())\n",
    "                            area = width * height\n",
    "                            x_center_norm = (x + width / 2) / img_width\n",
    "                            y_center_norm = (y + height / 2) / img_height\n",
    "                            width_norm = width / img_width\n",
    "                            height_norm = height / img_height\n",
    "\n",
    "                            data.append([img_width, img_height, img_file, img_path, cat_id, '', '', \n",
    "                                         x, y, width, height, area, x_center_norm, y_center_norm, \n",
    "                                         width_norm, height_norm, split])\n",
    "\n",
    "    df = pd.DataFrame(data, columns=columns)\n",
    "    return df\n",
    "\n",
    "# Usage\n",
    "base_path = 'your_yolo_dataset_directory'  # Adjust this to your YOLO dataset directory\n",
    "df = analyze_yolo_dataset(base_path)\n",
    "\n",
    "# Optionally save to CSV\n",
    "df.to_csv('yolo_dataset_analysis.csv', index=False)\n"
   ],
   "metadata": {
    "collapsed": false
   },
   "id": "665aa928e28fc2b8"
  },
  {
   "cell_type": "markdown",
   "source": [
    "## Save \n",
    "\n",
    "### save train/validation/test meta df"
   ],
   "metadata": {
    "collapsed": false
   },
   "id": "b408051f66ab751"
  },
  {
   "cell_type": "code",
   "execution_count": null,
   "outputs": [],
   "source": [],
   "metadata": {
    "collapsed": false
   },
   "id": "633dcb35ff420aca"
  },
  {
   "cell_type": "markdown",
   "source": [
    "### save cat_name dict"
   ],
   "metadata": {
    "collapsed": false
   },
   "id": "63ccd79ed541b1ec"
  },
  {
   "cell_type": "markdown",
   "source": [],
   "metadata": {
    "collapsed": false
   },
   "id": "c1a29c6caa93f28e"
  },
  {
   "cell_type": "code",
   "execution_count": 12,
   "outputs": [
    {
     "data": {
      "text/plain": "{0: 'Aluminium foil',\n 1: 'Battery',\n 2: 'Aluminium blister pack',\n 3: 'Carded blister pack',\n 4: 'Other plastic bottle',\n 5: 'Clear plastic bottle',\n 6: 'Glass bottle',\n 7: 'Plastic bottle cap',\n 8: 'Metal bottle cap',\n 9: 'Broken glass',\n 10: 'Food Can',\n 11: 'Aerosol',\n 12: 'Drink can',\n 13: 'Toilet tube',\n 14: 'Other carton',\n 15: 'Egg carton',\n 16: 'Drink carton',\n 17: 'Corrugated carton',\n 18: 'Meal carton',\n 19: 'Pizza box',\n 20: 'Paper cup',\n 21: 'Disposable plastic cup',\n 22: 'Foam cup',\n 23: 'Glass cup',\n 24: 'Other plastic cup',\n 25: 'Food waste',\n 26: 'Glass jar',\n 27: 'Plastic lid',\n 28: 'Metal lid',\n 29: 'Other plastic',\n 30: 'Magazine paper',\n 31: 'Tissues',\n 32: 'Wrapping paper',\n 33: 'Normal paper',\n 34: 'Paper bag',\n 36: 'Plastic film',\n 37: 'Six pack rings',\n 38: 'Garbage bag',\n 39: 'Other plastic wrapper',\n 40: 'Single-use carrier bag',\n 41: 'Polypropylene bag',\n 42: 'Crisp packet',\n 43: 'Spread tub',\n 44: 'Tupperware',\n 45: 'Disposable food container',\n 46: 'Foam food container',\n 47: 'Other plastic container',\n 48: 'Plastic glooves',\n 49: 'Plastic utensils',\n 50: 'Pop tab',\n 51: 'Rope & strings',\n 52: 'Scrap metal',\n 53: 'Shoe',\n 54: 'Squeezable tube',\n 55: 'Plastic straw',\n 56: 'Paper straw',\n 57: 'Styrofoam piece',\n 58: 'Unlabeled litter',\n 59: 'Cigarette'}"
     },
     "execution_count": 12,
     "metadata": {},
     "output_type": "execute_result"
    }
   ],
   "source": [
    "cat_id_name_map = new_taco_meta_df[[\"cat_id\", \"cat_name\"]].drop_duplicates().set_index(\"cat_id\").to_dict()[\"cat_name\"]\n",
    "\n",
    "# sort keys\n",
    "cat_id_name_map = {k: v for k, v in sorted(cat_id_name_map.items(), key=lambda item: item[0])}\n",
    "cat_id_name_map"
   ],
   "metadata": {
    "collapsed": false,
    "ExecuteTime": {
     "end_time": "2023-12-16T20:48:23.122129700Z",
     "start_time": "2023-12-16T20:48:23.088876Z"
    }
   },
   "id": "bb1ce497a58350ae"
  },
  {
   "cell_type": "code",
   "execution_count": 13,
   "outputs": [
    {
     "data": {
      "text/plain": "{0: 'Aluminium foil',\n 1: 'Battery',\n 2: 'Aluminium blister pack',\n 3: 'Carded blister pack',\n 4: 'Other plastic bottle',\n 5: 'Clear plastic bottle',\n 6: 'Glass bottle',\n 7: 'Plastic bottle cap',\n 8: 'Metal bottle cap',\n 9: 'Broken glass',\n 10: 'Food Can',\n 11: 'Aerosol',\n 12: 'Drink can',\n 13: 'Toilet tube',\n 14: 'Other carton',\n 15: 'Egg carton',\n 16: 'Drink carton',\n 17: 'Corrugated carton',\n 18: 'Meal carton',\n 19: 'Pizza box',\n 20: 'Paper cup',\n 21: 'Disposable plastic cup',\n 22: 'Foam cup',\n 23: 'Glass cup',\n 24: 'Other plastic cup',\n 25: 'Food waste',\n 26: 'Glass jar',\n 27: 'Plastic lid',\n 28: 'Metal lid',\n 29: 'Other plastic',\n 30: 'Magazine paper',\n 31: 'Tissues',\n 32: 'Wrapping paper',\n 33: 'Normal paper',\n 34: 'Paper bag',\n 35: 'Plastic film',\n 36: 'Six pack rings',\n 37: 'Garbage bag',\n 38: 'Other plastic wrapper',\n 39: 'Single-use carrier bag',\n 40: 'Polypropylene bag',\n 41: 'Crisp packet',\n 42: 'Spread tub',\n 43: 'Tupperware',\n 44: 'Disposable food container',\n 45: 'Foam food container',\n 46: 'Other plastic container',\n 47: 'Plastic glooves',\n 48: 'Plastic utensils',\n 49: 'Pop tab',\n 50: 'Rope & strings',\n 51: 'Scrap metal',\n 52: 'Shoe',\n 53: 'Squeezable tube',\n 54: 'Plastic straw',\n 55: 'Paper straw',\n 56: 'Styrofoam piece',\n 57: 'Unlabeled litter',\n 58: 'Cigarette'}"
     },
     "execution_count": 13,
     "metadata": {},
     "output_type": "execute_result"
    }
   ],
   "source": [
    "# reindex cat_id\n",
    "cat_id_name_map = {k: v for k, v in enumerate(cat_id_name_map.values())}\n",
    "cat_id_name_map"
   ],
   "metadata": {
    "collapsed": false,
    "ExecuteTime": {
     "end_time": "2023-12-16T20:48:54.310978800Z",
     "start_time": "2023-12-16T20:48:54.198488Z"
    }
   },
   "id": "469a13d626af1b7f"
  },
  {
   "cell_type": "code",
   "execution_count": 19,
   "outputs": [
    {
     "data": {
      "text/plain": "{0: 'Bottle',\n 1: 'Carton',\n 2: 'Bottle cap',\n 3: 'Can',\n 4: 'Pop tab',\n 5: 'Cup',\n 6: 'Plastic bag & wrapper',\n 7: 'Styrofoam piece',\n 8: 'Other plastic',\n 9: 'Plastic container',\n 10: 'Paper',\n 11: 'Cigarette',\n 12: 'Lid',\n 13: 'Straw',\n 14: 'Paper bag',\n 15: 'Broken glass',\n 16: 'Plastic utensils',\n 17: 'Glass jar',\n 18: 'Food waste',\n 19: 'Squeezable tube',\n 20: 'Shoe',\n 21: 'Aluminium foil',\n 22: 'Unlabeled litter',\n 23: 'Blister pack',\n 24: 'Battery',\n 25: 'Rope & strings',\n 26: 'Scrap metal',\n 27: 'Plastic glooves'}"
     },
     "execution_count": 19,
     "metadata": {},
     "output_type": "execute_result"
    }
   ],
   "source": [
    "idx_to_supercategory = {k: v for k, v in enumerate(taco_meta_df[\"supercategory\"].drop_duplicates().to_dict().values())}\n",
    "idx_to_supercategory"
   ],
   "metadata": {
    "collapsed": false,
    "ExecuteTime": {
     "end_time": "2023-12-16T20:52:55.245399200Z",
     "start_time": "2023-12-16T20:52:55.115218200Z"
    }
   },
   "id": "aea4420d5dccdf3a"
  },
  {
   "cell_type": "code",
   "execution_count": 3,
   "outputs": [
    {
     "name": "stdout",
     "output_type": "stream",
     "text": [
      "0 Aluminium foil\n",
      "1 Battery\n",
      "2 Aluminium blister pack\n",
      "3 Carded blister pack\n",
      "4 Other plastic bottle\n",
      "5 Clear plastic bottle\n",
      "6 Glass bottle\n",
      "7 Plastic bottle cap\n",
      "8 Metal bottle cap\n",
      "9 Broken glass\n",
      "10 Food Can\n",
      "11 Aerosol\n",
      "12 Drink can\n",
      "13 Toilet tube\n",
      "14 Other carton\n",
      "15 Egg carton\n",
      "16 Drink carton\n",
      "17 Corrugated carton\n",
      "18 Meal carton\n",
      "19 Pizza box\n",
      "20 Paper cup\n",
      "21 Disposable plastic cup\n",
      "22 Foam cup\n",
      "23 Glass cup\n",
      "24 Other plastic cup\n",
      "25 Food waste\n",
      "26 Glass jar\n",
      "27 Plastic lid\n",
      "28 Metal lid\n",
      "29 Other plastic\n",
      "30 Magazine paper\n",
      "31 Tissues\n",
      "32 Wrapping paper\n",
      "33 Normal paper\n",
      "34 Paper bag\n"
     ]
    },
    {
     "ename": "KeyError",
     "evalue": "35",
     "output_type": "error",
     "traceback": [
      "\u001B[1;31m---------------------------------------------------------------------------\u001B[0m",
      "\u001B[1;31mKeyError\u001B[0m                                  Traceback (most recent call last)",
      "Cell \u001B[1;32mIn[3], line 4\u001B[0m\n\u001B[0;32m      2\u001B[0m \u001B[38;5;28;01mfrom\u001B[39;00m \u001B[38;5;21;01mconstants\u001B[39;00m \u001B[38;5;28;01mimport\u001B[39;00m CATIDX_TO_CATNAME\n\u001B[0;32m      3\u001B[0m \u001B[38;5;28;01mfor\u001B[39;00m i \u001B[38;5;129;01min\u001B[39;00m \u001B[38;5;28mrange\u001B[39m(\u001B[38;5;241m60\u001B[39m):\n\u001B[1;32m----> 4\u001B[0m     \u001B[38;5;28mprint\u001B[39m(i,\u001B[43mCATIDX_TO_CATNAME\u001B[49m\u001B[43m[\u001B[49m\u001B[43mi\u001B[49m\u001B[43m]\u001B[49m)\n",
      "\u001B[1;31mKeyError\u001B[0m: 35"
     ]
    }
   ],
   "source": [
    "# get from pandas \n",
    "from constants import CATIDX_TO_CATNAME\n",
    "for i in range(60):\n",
    "    print(i,CATIDX_TO_CATNAME[i])"
   ],
   "metadata": {
    "collapsed": false,
    "ExecuteTime": {
     "end_time": "2023-12-16T20:43:43.736924100Z",
     "start_time": "2023-12-16T20:43:43.544858200Z"
    }
   },
   "id": "1bca3760d491c1cb"
  }
 ],
 "metadata": {
  "kernelspec": {
   "display_name": "Python 3",
   "language": "python",
   "name": "python3"
  },
  "language_info": {
   "codemirror_mode": {
    "name": "ipython",
    "version": 2
   },
   "file_extension": ".py",
   "mimetype": "text/x-python",
   "name": "python",
   "nbconvert_exporter": "python",
   "pygments_lexer": "ipython2",
   "version": "2.7.6"
  }
 },
 "nbformat": 4,
 "nbformat_minor": 5
}
